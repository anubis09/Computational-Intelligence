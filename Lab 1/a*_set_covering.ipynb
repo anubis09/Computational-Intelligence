{
 "cells": [
  {
   "cell_type": "code",
   "execution_count": 70,
   "metadata": {},
   "outputs": [],
   "source": [
    "from random import random\n",
    "from functools import reduce\n",
    "from collections import namedtuple\n",
    "from queue import PriorityQueue, SimpleQueue\n",
    "import numpy as np"
   ]
  },
  {
   "cell_type": "code",
   "execution_count": 71,
   "metadata": {},
   "outputs": [],
   "source": [
    "PROBLEM_SIZE = 10\n",
    "NUM_SETS = 50\n",
    "SETS = tuple(\n",
    "    [\n",
    "        np.array([random() < 0.3 for _ in range(PROBLEM_SIZE)])\n",
    "        for _ in range(NUM_SETS)\n",
    "    ]\n",
    ")\n",
    "# prob 30% to be true, 70% to be false. This is the problem space.\n",
    "State = namedtuple(\"State\", [\"taken\", \"not_taken\"])"
   ]
  },
  {
   "cell_type": "code",
   "execution_count": 72,
   "metadata": {},
   "outputs": [],
   "source": [
    "# Returns the state covered by the taken sets\n",
    "def overall_state_covered(taken: set[int]) -> list[bool]:\n",
    "    return reduce(\n",
    "        np.logical_or,\n",
    "        [SETS[i] for i in taken],\n",
    "        np.array([False for _ in range(PROBLEM_SIZE)]),\n",
    "    )\n",
    "\n",
    "\n",
    "# Returns True if all state are covered, False otherwise\n",
    "def goal_check(state: State(\"taken\", \"not_taken\")) -> bool:\n",
    "    return np.all(overall_state_covered(state.taken))"
   ]
  },
  {
   "cell_type": "code",
   "execution_count": 73,
   "metadata": {},
   "outputs": [],
   "source": [
    "# Is the problem solvable?\n",
    "assert goal_check((State(set(range(NUM_SETS)), set()))), \"Problem not solvable\""
   ]
  },
  {
   "cell_type": "code",
   "execution_count": 74,
   "metadata": {},
   "outputs": [],
   "source": [
    "# Returns the number of sets taken, which is the number of steps done 'till now.\n",
    "def g(state: State(\"taken\", \"not_taken\")) -> int:\n",
    "    return len(state.taken)\n",
    "\n",
    "\n",
    "# Returns 0 if we are covering every state, we don't need any more step.\n",
    "# Returns 1 otherwise.\n",
    "# This function is optimistic because if we are not covering some state,\n",
    "# it assumes that we will just need 1 more step to cover them.\n",
    "def h(state: State(\"taken\", \"not_taken\")) -> int:\n",
    "    return 0 if goal_check(state) else 1\n",
    "\n",
    "\n",
    "# Returns the sum of g and h.\n",
    "def a_star_func(state: State(\"taken\", \"not_taken\")) -> int:\n",
    "    return g(state) + h(state)"
   ]
  },
  {
   "cell_type": "code",
   "execution_count": 75,
   "metadata": {},
   "outputs": [],
   "source": [
    "# Returns True if the action doesn't add more covered set.\n",
    "# Returns False if the action cover set that are currently not covered.\n",
    "def is_overlapping(taken: set[int], action: int) -> bool:\n",
    "    new_taken = taken | {action}\n",
    "    state_covered_by_new_taken = overall_state_covered(new_taken)\n",
    "\n",
    "    state_covered_by_taken = overall_state_covered(taken)\n",
    "\n",
    "    if all(state_covered_by_new_taken == state_covered_by_taken):\n",
    "        return True\n",
    "    else:\n",
    "        return False\n",
    "\n",
    "\n",
    "def search(queue: object):\n",
    "    frontier = queue\n",
    "    state = State(set(), set(range(NUM_SETS)))\n",
    "\n",
    "    frontier.put((a_star_func(state), state))\n",
    "\n",
    "    counter = 0\n",
    "    _, current_state = frontier.get()  # take the state\n",
    "\n",
    "    # remove sets containing all false.\n",
    "    for set_index in current_state.not_taken:\n",
    "        if not any(SETS[set_index]):\n",
    "            current_state.not_taken - {set_index}\n",
    "\n",
    "    # check if state is the solution\n",
    "    while not goal_check(current_state):\n",
    "        counter += 1\n",
    "        # for all actions that we can take now\n",
    "        for action in current_state.not_taken:\n",
    "            # if the action let us cover more sets\n",
    "            if not is_overlapping(current_state.taken, action):\n",
    "                new_state = State(\n",
    "                    current_state.taken | {action},\n",
    "                    current_state.not_taken - {action},\n",
    "                )\n",
    "                frontier.put((a_star_func(new_state), new_state))\n",
    "\n",
    "        _, current_state = frontier.get()\n",
    "\n",
    "    print(\n",
    "        f\"Solved in {counter:,} steps ({len(current_state.taken)} tiles), with state: {current_state.taken}\"\n",
    "    )"
   ]
  },
  {
   "cell_type": "code",
   "execution_count": 76,
   "metadata": {},
   "outputs": [
    {
     "name": "stdout",
     "output_type": "stream",
     "text": [
      "a* solution: \n",
      "Solved in 8 steps (2 tiles), with state: {8, 6}\n",
      "\n",
      "breadth-first solution :\n",
      "Solved in 300 steps (2 tiles), with state: {8, 6}\n"
     ]
    }
   ],
   "source": [
    "print(\"a* solution: \")\n",
    "search(PriorityQueue())\n",
    "\n",
    "print()\n",
    "\n",
    "print(\"breadth-first solution :\")\n",
    "search(SimpleQueue())"
   ]
  }
 ],
 "metadata": {
  "kernelspec": {
   "display_name": ".env",
   "language": "python",
   "name": "python3"
  },
  "language_info": {
   "codemirror_mode": {
    "name": "ipython",
    "version": 3
   },
   "file_extension": ".py",
   "mimetype": "text/x-python",
   "name": "python",
   "nbconvert_exporter": "python",
   "pygments_lexer": "ipython3",
   "version": "3.11.6"
  }
 },
 "nbformat": 4,
 "nbformat_minor": 2
}
