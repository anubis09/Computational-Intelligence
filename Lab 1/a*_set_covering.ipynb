{
 "cells": [
  {
   "cell_type": "code",
   "execution_count": 152,
   "metadata": {},
   "outputs": [],
   "source": [
    "from random import random\n",
    "from functools import reduce\n",
    "from collections import namedtuple\n",
    "from queue import PriorityQueue, SimpleQueue\n",
    "import numpy as np"
   ]
  },
  {
   "cell_type": "code",
   "execution_count": 153,
   "metadata": {},
   "outputs": [],
   "source": [
    "PROBLEM_SIZE = 10\n",
    "NUM_SETS = 50\n",
    "SETS = tuple(\n",
    "    [\n",
    "        np.array([random() < 0.3 for _ in range(PROBLEM_SIZE)])\n",
    "        for _ in range(NUM_SETS)\n",
    "    ]\n",
    ")\n",
    "# prob 30% to be true, 70% to be false. This is the problem space.\n",
    "State = namedtuple(\"State\", [\"taken\", \"not_taken\"])"
   ]
  },
  {
   "cell_type": "code",
   "execution_count": 154,
   "metadata": {},
   "outputs": [],
   "source": [
    "def goal_check(state):\n",
    "    # this the test if we solve everything. We want each state to be covered. If there is an overlapping it's fine.\n",
    "    # return np.all(reduce(np.logical_or, [SETS[i] for i in state.taken]))\n",
    "    return np.all(\n",
    "        reduce(\n",
    "            np.logical_or,\n",
    "            [SETS[i] for i in state.taken],\n",
    "            np.array([False for _ in range(PROBLEM_SIZE)]),\n",
    "        )\n",
    "    )"
   ]
  },
  {
   "cell_type": "code",
   "execution_count": 155,
   "metadata": {},
   "outputs": [],
   "source": [
    "assert goal_check((State(set(range(NUM_SETS)), set()))), \"Problem not solvable\""
   ]
  },
  {
   "cell_type": "code",
   "execution_count": 156,
   "metadata": {},
   "outputs": [],
   "source": [
    "def h(state):\n",
    "    covered_sets = sum(\n",
    "        reduce(\n",
    "            np.logical_or,\n",
    "            [SETS[i] for i in state.taken],\n",
    "            np.array([False for _ in range(PROBLEM_SIZE)]),\n",
    "        )\n",
    "    )\n",
    "    ret = 0 if covered_sets == PROBLEM_SIZE else 1\n",
    "    return ret\n",
    "\n",
    "\n",
    "# I want to check if what i add is covering some state that i'm not covering\n",
    "# so i check if the state covered by my new solution (taken xor action)\n",
    "def is_overlapping(taken, action):\n",
    "    new_taken = taken ^ {action}\n",
    "    state_covered_by_new_taken = reduce(\n",
    "        np.logical_or,\n",
    "        [SETS[i] for i in new_taken],\n",
    "        np.array([False for _ in range(PROBLEM_SIZE)]),\n",
    "    )\n",
    "    state_covered_by_taken = reduce(\n",
    "        np.logical_or,\n",
    "        [SETS[i] for i in taken],\n",
    "        np.array([False for _ in range(PROBLEM_SIZE)]),\n",
    "    )\n",
    "\n",
    "    if all(state_covered_by_new_taken == state_covered_by_taken):\n",
    "        return True\n",
    "    else:\n",
    "        return False\n",
    "\n",
    "\n",
    "def g(current_state):\n",
    "    return len(current_state.taken)\n",
    "\n",
    "\n",
    "def a_star_func(current_state):\n",
    "    return g(current_state) + h(current_state)"
   ]
  },
  {
   "cell_type": "code",
   "execution_count": 157,
   "metadata": {},
   "outputs": [],
   "source": [
    "def search(distance, a_star=True):\n",
    "    if a_star:\n",
    "        frontier = PriorityQueue()\n",
    "    else:\n",
    "        frontier = SimpleQueue()\n",
    "    state = State(set(), set(range(NUM_SETS)))\n",
    "\n",
    "    frontier.put((distance(state), state))\n",
    "\n",
    "    counter = 0\n",
    "    _, current_state = frontier.get()  # take the state\n",
    "    # check if state is the solution\n",
    "    while not goal_check(current_state):\n",
    "        counter += 1\n",
    "        for action in current_state.not_taken:  # all action we can take now\n",
    "            if not np.all(action == False) and not is_overlapping(\n",
    "                current_state.taken, action\n",
    "            ):\n",
    "                new_state = State(\n",
    "                    current_state.taken ^ {action},\n",
    "                    current_state.not_taken ^ {action},\n",
    "                )  # | is the set union\n",
    "                frontier.put((distance(new_state), new_state))\n",
    "\n",
    "        _, current_state = frontier.get()\n",
    "\n",
    "    print(\n",
    "        f\"Solved in {counter:,} steps ({len(current_state.taken)} tiles), with state: {current_state.taken}\"\n",
    "    )\n",
    "    return current_state.taken"
   ]
  },
  {
   "cell_type": "code",
   "execution_count": 158,
   "metadata": {},
   "outputs": [
    {
     "name": "stdout",
     "output_type": "stream",
     "text": [
      "Solved in 200 steps (3 tiles), with state: {17, 28, 20}\n",
      "Solved in 2,355 steps (3 tiles), with state: {1, 4, 37}\n"
     ]
    }
   ],
   "source": [
    "sol = search(a_star_func)\n",
    "\n",
    "sol = search(a_star_func, False)"
   ]
  }
 ],
 "metadata": {
  "kernelspec": {
   "display_name": ".env",
   "language": "python",
   "name": "python3"
  },
  "language_info": {
   "codemirror_mode": {
    "name": "ipython",
    "version": 3
   },
   "file_extension": ".py",
   "mimetype": "text/x-python",
   "name": "python",
   "nbconvert_exporter": "python",
   "pygments_lexer": "ipython3",
   "version": "3.11.6"
  }
 },
 "nbformat": 4,
 "nbformat_minor": 2
}
