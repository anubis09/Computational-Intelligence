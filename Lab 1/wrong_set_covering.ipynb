{
 "cells": [
  {
   "cell_type": "markdown",
   "metadata": {},
   "source": [
    "Set covering problem description"
   ]
  },
  {
   "cell_type": "code",
   "execution_count": 37,
   "metadata": {},
   "outputs": [],
   "source": [
    "from random import random\n",
    "from functools import reduce\n",
    "from collections import namedtuple\n",
    "from queue import PriorityQueue, SimpleQueue, LifoQueue\n",
    "import numpy as np"
   ]
  },
  {
   "cell_type": "code",
   "execution_count": 38,
   "metadata": {},
   "outputs": [],
   "source": [
    "PROBLEM_SIZE = 10\n",
    "NUM_SETS = 50\n",
    "SETS = tuple(\n",
    "    [\n",
    "        np.array([random() < 0.3 for _ in range(PROBLEM_SIZE)])\n",
    "        for _ in range(NUM_SETS)\n",
    "    ]\n",
    ")\n",
    "# prob 30% to be true, 70% to be false. This is the problem space.\n",
    "State = namedtuple(\"State\", [\"taken\", \"not_taken\"])"
   ]
  },
  {
   "cell_type": "code",
   "execution_count": 39,
   "metadata": {},
   "outputs": [],
   "source": [
    "def goal_check(state):\n",
    "    # this the test if we solve everything. We want each state to be covered. If there is an overlapping it's fine.\n",
    "    # return np.all(reduce(np.logical_or, [SETS[i] for i in state.taken]))\n",
    "    return np.all(\n",
    "        reduce(\n",
    "            np.logical_or,\n",
    "            [SETS[i] for i in state.taken],\n",
    "            np.array([False for _ in range(PROBLEM_SIZE)]),\n",
    "        )\n",
    "    )\n",
    "\n",
    "\n",
    "# This distance is optimistic, so not good\n",
    "def distance_prof(state):\n",
    "    num_not_covered_sets = PROBLEM_SIZE - sum(\n",
    "        reduce(\n",
    "            np.logical_or,\n",
    "            [SETS[i] for i in state.taken],\n",
    "            np.array([False for _ in range(PROBLEM_SIZE)]),\n",
    "        )\n",
    "    )\n",
    "    return num_not_covered_sets\n",
    "\n",
    "\n",
    "def overlap(taken):\n",
    "    n_overlap = np.sum(np.sum([SETS[i] for i in taken], axis=0) > 1)\n",
    "    if (\n",
    "        n_overlap > 1\n",
    "    ):  # because the first insert has an empty taken set, so we have 0 division.\n",
    "        normalizer = len(taken) * PROBLEM_SIZE\n",
    "        n_overlap = n_overlap / normalizer\n",
    "    return n_overlap\n",
    "\n",
    "\n",
    "# how far I am from solving the problem\n",
    "# this is the number of sets that I still need to cover.\n",
    "def my_h(state):\n",
    "    num_not_covered_sets = PROBLEM_SIZE - sum(\n",
    "        reduce(\n",
    "            np.logical_or,\n",
    "            [SETS[i] for i in state.taken],\n",
    "            np.array([False for _ in range(PROBLEM_SIZE)]),\n",
    "        )\n",
    "    )\n",
    "    num_of_overlap = overlap(state.taken)\n",
    "\n",
    "    return len(state.taken) + num_not_covered_sets + num_of_overlap"
   ]
  },
  {
   "cell_type": "markdown",
   "metadata": {},
   "source": [
    "Allora dobbiamo cercare di ridurre l'overlap. O troviamo un modo per encodarlo nella distance. (potremmo fare in modo di rendere il numero float in questo modo distance.overlap).\n",
    "Oppure dobbbiamo fare in modo di analizzare per primi gli stati che hanno \"pochi\" true e molti false, che quindi portano meno overlap. Quindi inserendoli per primi nella priority queue verranno considerati per primi."
   ]
  },
  {
   "cell_type": "code",
   "execution_count": 40,
   "metadata": {},
   "outputs": [],
   "source": [
    "assert goal_check((State(set(range(NUM_SETS)), set()))), \"Problem not solvable\""
   ]
  },
  {
   "cell_type": "code",
   "execution_count": 41,
   "metadata": {},
   "outputs": [],
   "source": [
    "def search(distance, a_star=True):\n",
    "    if a_star:\n",
    "        frontier = PriorityQueue()\n",
    "    else:\n",
    "        frontier = SimpleQueue()\n",
    "    state = State(set(), set(range(NUM_SETS)))\n",
    "\n",
    "    frontier.put((distance(state), state))\n",
    "\n",
    "    counter = 0\n",
    "    _, current_state = frontier.get()  # take the state\n",
    "    # check if state is the solution\n",
    "    while not goal_check(current_state):\n",
    "        counter += 1\n",
    "        for action in current_state.not_taken:  # all action we can take now\n",
    "            if not np.all(action == False):\n",
    "                new_state = State(\n",
    "                    current_state.taken ^ {action},\n",
    "                    current_state.not_taken ^ {action},\n",
    "                )  # | is the set union\n",
    "                frontier.put((distance(new_state), new_state))\n",
    "\n",
    "        _, current_state = frontier.get()\n",
    "\n",
    "    print(\n",
    "        f\"Solved in {counter:,} steps ({len(current_state.taken)} tiles), with state: {current_state.taken}\"\n",
    "    )\n",
    "    return current_state.taken"
   ]
  },
  {
   "cell_type": "code",
   "execution_count": 42,
   "metadata": {},
   "outputs": [
    {
     "name": "stdout",
     "output_type": "stream",
     "text": [
      "Solved in 2 steps (2 tiles), with state: {17, 33}\n",
      "1\n",
      "Solved in 2 steps (2 tiles), with state: {17, 33}\n",
      "1\n",
      "Solved in 849 steps (2 tiles), with state: {33, 17}\n",
      "1\n"
     ]
    }
   ],
   "source": [
    "sol = search(my_h)\n",
    "\n",
    "print(overlap(sol))\n",
    "\n",
    "search(distance_prof)\n",
    "\n",
    "print(overlap(sol))\n",
    "\n",
    "search(distance_prof, False)\n",
    "\n",
    "print(overlap(sol))"
   ]
  }
 ],
 "metadata": {
  "kernelspec": {
   "display_name": ".env",
   "language": "python",
   "name": "python3"
  },
  "language_info": {
   "codemirror_mode": {
    "name": "ipython",
    "version": 3
   },
   "file_extension": ".py",
   "mimetype": "text/x-python",
   "name": "python",
   "nbconvert_exporter": "python",
   "pygments_lexer": "ipython3",
   "version": "3.11.6"
  }
 },
 "nbformat": 4,
 "nbformat_minor": 2
}
