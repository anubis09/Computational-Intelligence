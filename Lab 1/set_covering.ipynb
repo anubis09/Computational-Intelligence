{
 "cells": [
  {
   "cell_type": "markdown",
   "metadata": {},
   "source": [
    "Set covering problem description"
   ]
  },
  {
   "cell_type": "code",
   "execution_count": 259,
   "metadata": {},
   "outputs": [],
   "source": [
    "from random import random\n",
    "from functools import reduce\n",
    "from collections import namedtuple\n",
    "from queue import PriorityQueue, SimpleQueue, LifoQueue\n",
    "import numpy as np"
   ]
  },
  {
   "cell_type": "code",
   "execution_count": 260,
   "metadata": {},
   "outputs": [],
   "source": [
    "PROBLEM_SIZE = 100\n",
    "NUM_SETS = 500\n",
    "SETS = tuple(\n",
    "    [\n",
    "        np.array([random() < 0.3 for _ in range(PROBLEM_SIZE)])\n",
    "        for _ in range(NUM_SETS)\n",
    "    ]\n",
    ")\n",
    "# prob 30% to be true, 70% to be false. This is the problem space.\n",
    "State = namedtuple(\"State\", [\"taken\", \"not_taken\"])"
   ]
  },
  {
   "cell_type": "code",
   "execution_count": 261,
   "metadata": {},
   "outputs": [],
   "source": [
    "def goal_check(state):\n",
    "    # this the test if we solve everything. We want each state to be covered. If there is an overlapping it's fine.\n",
    "    # return np.all(reduce(np.logical_or, [SETS[i] for i in state.taken]))\n",
    "    return np.all(\n",
    "        reduce(\n",
    "            np.logical_or,\n",
    "            [SETS[i] for i in state.taken],\n",
    "            np.array([False for _ in range(PROBLEM_SIZE)]),\n",
    "        )\n",
    "    )\n",
    "\n",
    "\n",
    "def distance_prof(state):\n",
    "    num_not_covered_sets = PROBLEM_SIZE - sum(\n",
    "        reduce(\n",
    "            np.logical_or,\n",
    "            [SETS[i] for i in state.taken],\n",
    "            np.array([False for _ in range(PROBLEM_SIZE)]),\n",
    "        )\n",
    "    )\n",
    "    return num_not_covered_sets\n",
    "\n",
    "\n",
    "def overlap(taken):\n",
    "    n_overlap = np.sum(np.sum([SETS[i] for i in taken], axis=0) > 1)\n",
    "    if (\n",
    "        n_overlap > 1\n",
    "    ):  # because the first insert has an empty taken set, so we have 0 division.\n",
    "        normalizer = len(taken) * PROBLEM_SIZE\n",
    "        n_overlap = n_overlap / normalizer\n",
    "    return n_overlap\n",
    "\n",
    "\n",
    "# how far I am from solving the problem\n",
    "# this is the number of sets that I still need to cover.\n",
    "def my_h(state):\n",
    "    num_not_covered_sets = PROBLEM_SIZE - sum(\n",
    "        reduce(\n",
    "            np.logical_or,\n",
    "            [SETS[i] for i in state.taken],\n",
    "            np.array([False for _ in range(PROBLEM_SIZE)]),\n",
    "        )\n",
    "    )\n",
    "    num_of_overlap = overlap(state.taken)\n",
    "\n",
    "    return len(state.taken) + num_not_covered_sets + num_of_overlap"
   ]
  },
  {
   "cell_type": "markdown",
   "metadata": {},
   "source": [
    "Allora dobbiamo cercare di ridurre l'overlap. O troviamo un modo per encodarlo nella distance. (potremmo fare in modo di rendere il numero float in questo modo distance.overlap).\n",
    "Oppure dobbbiamo fare in modo di analizzare per primi gli stati che hanno \"pochi\" true e molti false, che quindi portano meno overlap. Quindi inserendoli per primi nella priority queue verranno considerati per primi."
   ]
  },
  {
   "cell_type": "code",
   "execution_count": 262,
   "metadata": {},
   "outputs": [],
   "source": [
    "assert goal_check((State(set(range(NUM_SETS)), set()))), \"Problem not solvable\""
   ]
  },
  {
   "cell_type": "code",
   "execution_count": 263,
   "metadata": {},
   "outputs": [],
   "source": [
    "def search(distance):\n",
    "    # We now start the search. This is the starting point.\n",
    "    frontier = PriorityQueue()  # prio -> dijkstra.\n",
    "    state = State(set(), set(range(NUM_SETS)))\n",
    "    frontier.put((distance(state), state))\n",
    "\n",
    "    counter = 0\n",
    "    _, current_state = frontier.get()  # take the state\n",
    "    # check if state is the solution\n",
    "    while not goal_check(current_state):\n",
    "        counter += 1\n",
    "        for action in current_state.not_taken:  # all action we can take now\n",
    "            new_state = State(\n",
    "                current_state.taken ^ {action},\n",
    "                current_state.not_taken ^ {action},\n",
    "            )  # | is the set union\n",
    "            frontier.put((distance(new_state), new_state))\n",
    "        _, current_state = frontier.get()\n",
    "\n",
    "    print(\n",
    "        f\"Solved in {counter:,} steps ({len(current_state.taken)} tiles), with state: {current_state.taken}\"\n",
    "    )\n",
    "    return current_state.taken"
   ]
  },
  {
   "cell_type": "code",
   "execution_count": 264,
   "metadata": {},
   "outputs": [
    {
     "name": "stdout",
     "output_type": "stream",
     "text": [
      "Solved in 5 steps (5 tiles), with state: {295, 204, 473, 282, 159}\n",
      "0.106\n",
      "Solved in 6 steps (6 tiles), with state: {4, 197, 427, 82, 473, 159}\n",
      "0.106\n"
     ]
    }
   ],
   "source": [
    "sol = search(my_h)\n",
    "\n",
    "print(overlap(sol))\n",
    "\n",
    "search(distance_prof)\n",
    "\n",
    "print(overlap(sol))"
   ]
  }
 ],
 "metadata": {
  "kernelspec": {
   "display_name": ".env",
   "language": "python",
   "name": "python3"
  },
  "language_info": {
   "codemirror_mode": {
    "name": "ipython",
    "version": 3
   },
   "file_extension": ".py",
   "mimetype": "text/x-python",
   "name": "python",
   "nbconvert_exporter": "python",
   "pygments_lexer": "ipython3",
   "version": "3.11.6"
  }
 },
 "nbformat": 4,
 "nbformat_minor": 2
}
