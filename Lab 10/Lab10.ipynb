{
 "cells": [
  {
   "cell_type": "markdown",
   "metadata": {},
   "source": [
    "Copyright **`(c)`** 2023 Giovanni Squillero `<giovanni.squillero@polito.it>`  \n",
    "[`https://github.com/squillero/computational-intelligence`](https://github.com/squillero/computational-intelligence)  \n",
    "Free for personal or classroom use; see [`LICENSE.md`](https://github.com/squillero/computational-intelligence/blob/master/LICENSE.md) for details.  "
   ]
  },
  {
   "cell_type": "markdown",
   "metadata": {},
   "source": [
    "# LAB10\n",
    "\n",
    "Use reinforcement learning to devise a tic-tac-toe player.\n",
    "\n",
    "### Deadlines:\n",
    "\n",
    "* Submission: [Dies Natalis Solis Invicti](https://en.wikipedia.org/wiki/Sol_Invictus)\n",
    "* Reviews: [Befana](https://en.wikipedia.org/wiki/Befana)\n",
    "\n",
    "Notes:\n",
    "\n",
    "* Reviews will be assigned  on Monday, December 4\n",
    "* You need to commit in order to be selected as a reviewer (ie. better to commit an empty work than not to commit)"
   ]
  },
  {
   "cell_type": "code",
   "execution_count": 74,
   "metadata": {},
   "outputs": [],
   "source": [
    "from itertools import permutations\n",
    "import numpy as np"
   ]
  },
  {
   "cell_type": "code",
   "execution_count": 75,
   "metadata": {},
   "outputs": [],
   "source": [
    "from abc import ABC, abstractmethod\n",
    "\n",
    "\n",
    "class Player(ABC):\n",
    "    def __init__(self) -> None:\n",
    "        \"\"\"You can change this for your player if you need to handle state/have memory\"\"\"\n",
    "        pass\n",
    "\n",
    "    @abstractmethod\n",
    "    def make_move(self, game: \"TicTacToe\") -> str:\n",
    "        \"\"\"\n",
    "        game: the Quixo game. You can use it to override the current game with yours, but everything is evaluated by the main game\n",
    "        return values: this method shall return a tuple of X,Y positions and a move among TOP, BOTTOM, LEFT and RIGHT\n",
    "        \"\"\"\n",
    "        pass"
   ]
  },
  {
   "cell_type": "code",
   "execution_count": 76,
   "metadata": {},
   "outputs": [],
   "source": [
    "class TicTacToe:\n",
    "    def __init__(self, board=None):\n",
    "        if board != None:\n",
    "            self.board = board\n",
    "        else:\n",
    "            self.board = np.zeros(shape=(3, 3))\n",
    "\n",
    "    def check_win(self):\n",
    "        \"\"\"Checks if someone won the game.\"\"\"\n",
    "        check_win_by_col = (abs(self.board.sum(axis=0)) == 3).any()\n",
    "        check_win_by_row = (abs(self.board.sum(axis=1)) == 3).any()\n",
    "\n",
    "        if check_win_by_col or check_win_by_row:\n",
    "            return True\n",
    "\n",
    "        sum_diag_princ = 0\n",
    "        sum_diag_back = 0\n",
    "        for i in range(3):\n",
    "            sum_diag_back += self.board[i][i]\n",
    "            sum_diag_princ += self.board[2 - i][i]\n",
    "\n",
    "        if abs(sum_diag_back) == 3 or abs(sum_diag_princ) == 3:\n",
    "            return True\n",
    "\n",
    "        return False\n",
    "\n",
    "    def make_move(self, player: int, move: tuple[int, int]):\n",
    "        \"\"\"Take a move in format x y and makes it.\"\"\"\n",
    "        x, y = move\n",
    "        # check is a valid move\n",
    "        if not (0 <= x <= 2 and 0 <= y <= 2):\n",
    "            print(\"invalid move\")\n",
    "        elif self.board[x][y] != 0:\n",
    "            print(\"invalid move\")\n",
    "        else:\n",
    "            self.board[x][y] = player\n",
    "\n",
    "    def possible_moves(self):\n",
    "        \"\"\"Return all the possible available moves to make.\"\"\"\n",
    "        moves = []\n",
    "        for i in range(3):\n",
    "            for j in range(3):\n",
    "                if self.board[i][j] == 0:\n",
    "                    moves.append((i, j))\n",
    "\n",
    "        return moves\n",
    "\n",
    "    def print(self):\n",
    "        for i in range(3):\n",
    "            print(\"----------\")\n",
    "            print(\n",
    "                \" | \".join(\n",
    "                    map(\n",
    "                        lambda e: \" \" if e == 0 else \"x\" if e == 1 else \"o\",\n",
    "                        self.board[i].astype(int),\n",
    "                    )\n",
    "                )\n",
    "            )\n",
    "        print(\"----------\")\n",
    "\n",
    "    def game(self, player1: Player, player2: Player):\n",
    "        # TODO at each move we could save the state of the board in a list.\n",
    "        board_state = []\n",
    "        someone_won = False\n",
    "        self.board = np.zeros(shape=(3, 3))\n",
    "        # We need to also consider ties!!\n",
    "        # Possible moves = []\n",
    "        while not someone_won:\n",
    "            possible_moves = self.possible_moves()\n",
    "\n",
    "            pass"
   ]
  },
  {
   "cell_type": "code",
   "execution_count": 79,
   "metadata": {},
   "outputs": [
    {
     "name": "stdout",
     "output_type": "stream",
     "text": [
      "----------\n",
      "  |   |  \n",
      "----------\n",
      "  | o |  \n",
      "----------\n",
      "  |   |  \n",
      "----------\n"
     ]
    },
    {
     "data": {
      "text/plain": [
       "False"
      ]
     },
     "execution_count": 79,
     "metadata": {},
     "output_type": "execute_result"
    }
   ],
   "source": [
    "game = TicTacToe()\n",
    "game.print()\n",
    "game.check_win()"
   ]
  },
  {
   "cell_type": "code",
   "execution_count": null,
   "metadata": {},
   "outputs": [],
   "source": []
  }
 ],
 "metadata": {
  "kernelspec": {
   "display_name": "ci-fLJ3OwGs-py3.12",
   "language": "python",
   "name": "python3"
  },
  "language_info": {
   "codemirror_mode": {
    "name": "ipython",
    "version": 3
   },
   "file_extension": ".py",
   "mimetype": "text/x-python",
   "name": "python",
   "nbconvert_exporter": "python",
   "pygments_lexer": "ipython3",
   "version": "3.11.6"
  }
 },
 "nbformat": 4,
 "nbformat_minor": 2
}
