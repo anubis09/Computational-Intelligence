{
 "cells": [
  {
   "cell_type": "markdown",
   "metadata": {},
   "source": [
    "Copyright **`(c)`** 2023 Giovanni Squillero `<giovanni.squillero@polito.it>`  \n",
    "[`https://github.com/squillero/computational-intelligence`](https://github.com/squillero/computational-intelligence)  \n",
    "Free for personal or classroom use; see [`LICENSE.md`](https://github.com/squillero/computational-intelligence/blob/master/LICENSE.md) for details.  "
   ]
  },
  {
   "cell_type": "markdown",
   "metadata": {},
   "source": [
    "# LAB10\n",
    "\n",
    "Use reinforcement learning to devise a tic-tac-toe player.\n",
    "\n",
    "### Deadlines:\n",
    "\n",
    "* Submission: [Dies Natalis Solis Invicti](https://en.wikipedia.org/wiki/Sol_Invictus)\n",
    "* Reviews: [Befana](https://en.wikipedia.org/wiki/Befana)\n",
    "\n",
    "Notes:\n",
    "\n",
    "* Reviews will be assigned  on Monday, December 4\n",
    "* You need to commit in order to be selected as a reviewer (ie. better to commit an empty work than not to commit)"
   ]
  },
  {
   "cell_type": "code",
   "execution_count": 18,
   "metadata": {},
   "outputs": [],
   "source": [
    "from itertools import permutations\n",
    "import numpy as np"
   ]
  },
  {
   "cell_type": "code",
   "execution_count": 29,
   "metadata": {},
   "outputs": [
    {
     "ename": "SyntaxError",
     "evalue": "incomplete input (2858970769.py, line 30)",
     "output_type": "error",
     "traceback": [
      "\u001b[0;36m  Cell \u001b[0;32mIn[29], line 30\u001b[0;36m\u001b[0m\n\u001b[0;31m    if self.__board[x][y] == 0:\u001b[0m\n\u001b[0m                               ^\u001b[0m\n\u001b[0;31mSyntaxError\u001b[0m\u001b[0;31m:\u001b[0m incomplete input\n"
     ]
    }
   ],
   "source": [
    "class TicTacToe:\n",
    "    def __init__(self, board=None):\n",
    "        if list(board):\n",
    "            self.__board = board\n",
    "        else:\n",
    "            self.__board = np.zeros(shape=(3, 3))\n",
    "\n",
    "    def check_win(self):\n",
    "        check_win_by_col = (abs(self.__board.sum(axis=0)) == 3).any()\n",
    "        check_win_by_row = (abs(self.__board.sum(axis=1)) == 3).any()\n",
    "\n",
    "        if check_win_by_col or check_win_by_row:\n",
    "            return True\n",
    "\n",
    "        sum_diag_princ = 0\n",
    "        sum_diag_back = 0\n",
    "        for i in range(3):\n",
    "            sum_diag_back += self.__board[i][i]\n",
    "            sum_diag_princ += self.__board[2 - i][i]\n",
    "\n",
    "        if abs(sum_diag_back) == 3 or abs(sum_diag_princ) == 3:\n",
    "            return True\n",
    "\n",
    "        return False\n",
    "\n",
    "    def make_move(self, player: int, move: str):\n",
    "        \"\"\"move format x y\"\"\"\n",
    "\n",
    "        x, y = move.split(\" \")\n",
    "        # check is a valid move\n",
    "        if self.__board[x][y] != 0:\n",
    "            print(\"invalid move\")\n",
    "        else:\n",
    "            self.__board[x][y] = player\n",
    "\n",
    "    def possible_moves(self):\n",
    "        pass\n",
    "\n",
    "    def game(self):\n",
    "        # TODO at each move we could save the state of the board in a list.\n",
    "        pass"
   ]
  },
  {
   "cell_type": "code",
   "execution_count": 28,
   "metadata": {},
   "outputs": [
    {
     "name": "stdout",
     "output_type": "stream",
     "text": [
      "True\n"
     ]
    }
   ],
   "source": [
    "board = np.array([[1, 0, -1], [0, -1, 0], [-1, 1, -1]])\n",
    "game = TicTacToe(board)\n",
    "print(game.win())"
   ]
  },
  {
   "cell_type": "code",
   "execution_count": null,
   "metadata": {},
   "outputs": [],
   "source": []
  }
 ],
 "metadata": {
  "kernelspec": {
   "display_name": "ci-fLJ3OwGs-py3.12",
   "language": "python",
   "name": "python3"
  },
  "language_info": {
   "codemirror_mode": {
    "name": "ipython",
    "version": 3
   },
   "file_extension": ".py",
   "mimetype": "text/x-python",
   "name": "python",
   "nbconvert_exporter": "python",
   "pygments_lexer": "ipython3",
   "version": "3.11.6"
  }
 },
 "nbformat": 4,
 "nbformat_minor": 2
}
